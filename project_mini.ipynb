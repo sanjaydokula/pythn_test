{
 "cells": [
  {
   "cell_type": "code",
   "execution_count": 29,
   "metadata": {},
   "outputs": [
    {
     "name": "stdout",
     "output_type": "stream",
     "text": [
      "In the Year  2008 58\n",
      "In the Year  2009 57\n",
      "In the Year  2010 60\n",
      "In the Year  2011 73\n",
      "In the Year  2012 74\n",
      "In the Year  2013 76\n",
      "In the Year  2014 60\n",
      "In the Year  2015 59\n",
      "In the Year  2016 60\n",
      "In the Year  2017 60\n",
      "[8, 11, 6, 10, 6, 10, 7, 4, 6, 4]\n"
     ]
    },
    {
     "data": {
      "image/png": "[encoded data removed]",
      "text/plain": [
       "<Figure size 432x288 with 1 Axes>"
      ]
     },
     "metadata": {
      "needs_background": "light"
     },
     "output_type": "display_data"
    },
    {
     "name": "stdout",
     "output_type": "stream",
     "text": [
      "YK Pathan : 2\n",
      "WP Saha : 1\n",
      "DW Steyn : 3\n",
      "DA Warner : 6\n",
      "B Kumar : 1\n",
      "PC Valthaty : 1\n",
      "G Gambhir : 1\n",
      "V Kohli : 1\n",
      "AB Dinda : 1\n",
      "SE Marsh : 1\n",
      "V Sehwag : 2\n",
      "SK Trivedi : 1\n",
      "A Mishra : 2\n",
      "AT Rayudu : 1\n",
      "Mustafizur Rahman : 1\n",
      "R Vinay Kumar : 1\n",
      "SC Ganguly : 1\n",
      "I Sharma : 1\n",
      "DJG Sammy : 1\n",
      "UT Yadav : 1\n",
      "MJ McClenaghan : 1\n",
      "SL Malinga : 1\n",
      "Mandeep Singh : 1\n",
      "DJ Bravo : 1\n",
      "GH Vihari : 2\n",
      "SK Raina : 2\n",
      "CH Morris : 1\n",
      "MR Marsh : 1\n",
      "PA Patel : 1\n",
      "\n",
      "29 29\n"
     ]
    }
   ],
   "source": [
    "\n",
    "\n",
    "from pandas import *\n",
    "filepath=\"Match.csv\"\n",
    "df=read_csv(filepath)\n",
    "## Display the count of matches\n",
    "\n",
    "l=list(df[\"Season_Year\"])\n",
    "for i in range(2008,2018):\n",
    "    print(\"In the Year \",i,l.count(i))\n",
    "    \n",
    "### 2.Plot a bar graph  no. of matches won by each team in the year  2011\n",
    "\n",
    "l=[]\n",
    "for i in df.values:\n",
    "    if(i[5]==2011):\n",
    "        l.append(i[10])\n",
    "t=['Kolkata Knight Riders', 'Chennai Super Kings', 'Deccan Chargers','Mumbai Indians','Rajasthan Royals','Royal Challengers Bangalore','Kings XI Punjab','Pune Warriors','Kochi Tuskers Kerala','Delhi Daredevils' ]\n",
    "w=[]\n",
    "from matplotlib.pyplot import *\n",
    "for i in t:\n",
    "    w.append(l.count(i))\n",
    "print(w)\n",
    "wi=['kkr','csk','dc','mi','rr','rcb','kp','pw','kt','dd']\n",
    "bar(wi,w,color='blue',width=0.8)\n",
    "show()\n",
    "    \n",
    "    \n",
    "    ##     ## 3.Print  ManOfMatch count of each player in  Hyderabad stadium\n",
    "l=[]\n",
    "for i in df.values:\n",
    "    if i[7]==\"Hyderabad\":\n",
    "        l.append(i[14])\n",
    "s=set(l)\n",
    "s=list(s)\n",
    "w=[]\n",
    "for i in s :\n",
    "    w.append(l.count(i))\n",
    "for i in range(len(s)): \n",
    "      print(s[i],\":\",w[i])\n",
    "print()\n",
    "print(len(w),len(s))\n",
    "\n",
    "\n",
    "\n"
   ]
  },
  {
   "cell_type": "code",
   "execution_count": null,
   "metadata": {},
   "outputs": [],
   "source": []
  }
 ],
 "metadata": {
  "kernelspec": {
   "display_name": "Python 3",
   "language": "python",
   "name": "python3"
  },
  "language_info": {
   "codemirror_mode": {
    "name": "ipython",
    "version": 3
   },
   "file_extension": ".py",
   "mimetype": "text/x-python",
   "name": "python",
   "nbconvert_exporter": "python",
   "pygments_lexer": "ipython3",
   "version": "3.7.3"
  }
 },
 "nbformat": 4,
 "nbformat_minor": 2
}
